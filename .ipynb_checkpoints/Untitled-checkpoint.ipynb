{
 "cells": [
  {
   "cell_type": "code",
   "execution_count": null,
   "id": "99f8a34e",
   "metadata": {},
   "outputs": [],
   "source": [
    "# Testing pystout\n",
    "import statsmodels.api as sm\n",
    "import linearmodels as ln\n",
    "from pystout import pystout\n",
    "\n",
    "dta = sm.datasets.webuse('auto')\n",
    "dta.loc[:,'const'] = 1\n",
    "\n",
    "y = dta.price\n",
    "\n",
    "# =============================================================================\n",
    "# First three models are from statsmodels\n",
    "# =============================================================================\n",
    "X = dta[['const','mpg','displacement']]\n",
    "model1 = sm.OLS(y,X).fit()\n",
    "\n",
    "X = dta[['const','mpg','displacement','turn']]\n",
    "model2 = sm.OLS(y,X).fit()\n",
    "\n",
    "X = dta[['displacement','const','turn']]\n",
    "model3 = sm.OLS(y,X).fit()\n",
    "\n",
    "# =============================================================================\n",
    "# Next 2 are an ols and a tsls from linearmodels\n",
    "# =============================================================================\n",
    "X = dta[['displacement','const','turn','gear_ratio']]\n",
    "model4 = ln.OLS(y,X).fit()\n",
    "\n",
    "model5 = ln.IV2SLS(dependent=dta.price,endog=dta.mpg,\n",
    "                   exog=dta.filter(['const','turn','displacement']),\n",
    "                   instruments=dta.length).fit()\n",
    "\n",
    "# =============================================================================\n",
    "# Print result\n",
    "# =============================================================================\n",
    "pystout(models=[model1,model2,model3,model4,model5],\n",
    "        file='test_table.tex',\n",
    "        addnotes=['Here is a little note','And another one'],\n",
    "        digits=2,\n",
    "        endog_names=['Custom','Header','Please','Thanks','Again'],\n",
    "        varlabels={'const':'Constant','displacement':'Disp','mpg':'MPG'},\n",
    "        addrows={'Test':['A','Test','Row','Here','Too']},\n",
    "        mgroups={'Statsmodels':[1,3],'L OLS':4,'L TSLS':5},\n",
    "        modstat={'nobs':'Obs','rsquared_adj':'Adj. R\\sym{2}','fvalue':'F-stat'}\n",
    "        )"
   ]
  }
 ],
 "metadata": {
  "kernelspec": {
   "display_name": "Python 3 (ipykernel)",
   "language": "python",
   "name": "python3"
  }
 },
 "nbformat": 4,
 "nbformat_minor": 5
}
